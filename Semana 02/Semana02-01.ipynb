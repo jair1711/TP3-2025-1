{
 "cells": [
  {
   "cell_type": "markdown",
   "id": "40419740-5245-43b5-9775-789ef2c0d5af",
   "metadata": {},
   "source": [
    "# Semana02\n",
    "Mg- Flor Elizabeth Cerdán León"
   ]
  },
  {
   "cell_type": "markdown",
   "id": "eed6ee93-ff4d-4394-86b6-948e6a98f286",
   "metadata": {},
   "source": [
    "# Temas\n",
    "\n",
    "1. Colecciones de datos\n",
    "2. Estructuras Decisivas y Estructuras Repetitivas\n",
    "3. Clases y Objetos\n",
    "4. Funciones"
   ]
  },
  {
   "cell_type": "code",
   "execution_count": 25,
   "id": "5db6f5b0-d6f8-4e84-bca3-5e757fa92c20",
   "metadata": {},
   "outputs": [],
   "source": [
    "# 1. Colecciones de datos"
   ]
  },
  {
   "cell_type": "code",
   "execution_count": 27,
   "id": "64b1c6ff-d842-417d-94cd-a1314616098f",
   "metadata": {},
   "outputs": [
    {
     "name": "stdout",
     "output_type": "stream",
     "text": [
      "['ALALUNA', 'AVILA', 'CABANILLAS', 'CAMARGO']\n"
     ]
    }
   ],
   "source": [
    "# 1.1. Listas\n",
    "# Es una colección de elementos que puede ser ordenada,\n",
    "# modificada, etc..\n",
    "# Se identifica por los corchetes\n",
    "# Ejemplo:\n",
    "aula = ['ALALUNA','AVILA','CABANILLAS','CAMARGO']\n",
    "print(aula)"
   ]
  },
  {
   "cell_type": "code",
   "execution_count": 29,
   "id": "49b68826-612e-496a-9b2a-deb83cb77597",
   "metadata": {},
   "outputs": [
    {
     "name": "stdout",
     "output_type": "stream",
     "text": [
      "ALALUNA\n",
      "AVILA\n"
     ]
    }
   ],
   "source": [
    "# Podemos extraer cada elemento por su posición\n",
    "print(aula[0])\n",
    "print(aula[1])"
   ]
  },
  {
   "cell_type": "code",
   "execution_count": 31,
   "id": "174548eb-83e2-4d89-bc72-be9dd40e9829",
   "metadata": {},
   "outputs": [
    {
     "data": {
      "text/plain": [
       "'Chavez'"
      ]
     },
     "execution_count": 31,
     "metadata": {},
     "output_type": "execute_result"
    }
   ],
   "source": [
    "# Puedo asignar un valor a una posición de la lista\n",
    "aula[1] = 'Chavez'\n",
    "aula[1]"
   ]
  },
  {
   "cell_type": "code",
   "execution_count": 33,
   "id": "5cfdfc83-eb3c-47d7-b187-b45cd183839a",
   "metadata": {},
   "outputs": [
    {
     "data": {
      "text/plain": [
       "['ALALUNA', 'Chavez', 'CABANILLAS', 'CAMARGO', 'Hermitaño', 'Gomez']"
      ]
     },
     "execution_count": 33,
     "metadata": {},
     "output_type": "execute_result"
    }
   ],
   "source": [
    "# Para agregar un elemento utilizamos append\n",
    "aula.append(\"Hermitaño\")\n",
    "aula.append(\"Gomez\")\n",
    "aula"
   ]
  },
  {
   "cell_type": "code",
   "execution_count": 35,
   "id": "54871cb0-b224-4aab-a049-e49d7e46c730",
   "metadata": {},
   "outputs": [
    {
     "data": {
      "text/plain": [
       "['Chavez', 'CABANILLAS', 'CAMARGO', 'Hermitaño', 'Gomez']"
      ]
     },
     "execution_count": 35,
     "metadata": {},
     "output_type": "execute_result"
    }
   ],
   "source": [
    "# Para eliminar elementos utilizamos remove[]\n",
    "aula.remove(\"ALALUNA\")\n",
    "aula"
   ]
  },
  {
   "cell_type": "code",
   "execution_count": 37,
   "id": "2998d30d-2c3a-42ea-9b05-b7bbd7a84081",
   "metadata": {},
   "outputs": [
    {
     "data": {
      "text/plain": [
       "['Chavez', 'CABANILLAS', 'CAMARGO', 'Hermitaño']"
      ]
     },
     "execution_count": 37,
     "metadata": {},
     "output_type": "execute_result"
    }
   ],
   "source": [
    "# Si hubiera varios elementos de valores iguales se elimina la primera coincidencia\n",
    "aula.remove(\"Gomez\")\n",
    "aula"
   ]
  },
  {
   "cell_type": "code",
   "execution_count": 40,
   "id": "d430640a-7a7a-4d4f-b402-d90c58c67c21",
   "metadata": {},
   "outputs": [
    {
     "data": {
      "text/plain": [
       "4"
      ]
     },
     "execution_count": 40,
     "metadata": {},
     "output_type": "execute_result"
    }
   ],
   "source": [
    "# Para obtener el tamaño utilizamos len()\n",
    "len(aula)"
   ]
  },
  {
   "cell_type": "code",
   "execution_count": 42,
   "id": "8b060405-61ef-4bc2-840b-cde5086a2cbe",
   "metadata": {},
   "outputs": [
    {
     "name": "stdout",
     "output_type": "stream",
     "text": [
      "Chavez\n",
      "CABANILLAS\n",
      "CAMARGO\n",
      "Hermitaño\n"
     ]
    }
   ],
   "source": [
    "# Para recorrrer podemos utilizar una estructura repetitiva\n",
    "for alumno in aula:\n",
    "    print(alumno)"
   ]
  },
  {
   "cell_type": "code",
   "execution_count": 44,
   "id": "0380688b-8a83-4529-a08c-eae722147b3d",
   "metadata": {},
   "outputs": [
    {
     "data": {
      "text/plain": [
       "['Hermitaño', 'CAMARGO', 'CABANILLAS', 'Chavez']"
      ]
     },
     "execution_count": 44,
     "metadata": {},
     "output_type": "execute_result"
    }
   ],
   "source": [
    "# Para invertir la lista utilizamos reverse()\n",
    "# invertir NO significa ordenar en forma descendente sin invertir la lista\n",
    "aula.reverse()\n",
    "aula"
   ]
  },
  {
   "cell_type": "code",
   "execution_count": null,
   "id": "7f626ad5-b801-45b9-b221-ad34a6dd1fc3",
   "metadata": {},
   "outputs": [],
   "source": []
  }
 ],
 "metadata": {
  "kernelspec": {
   "display_name": "Python [conda env:base] *",
   "language": "python",
   "name": "conda-base-py"
  },
  "language_info": {
   "codemirror_mode": {
    "name": "ipython",
    "version": 3
   },
   "file_extension": ".py",
   "mimetype": "text/x-python",
   "name": "python",
   "nbconvert_exporter": "python",
   "pygments_lexer": "ipython3",
   "version": "3.12.7"
  }
 },
 "nbformat": 4,
 "nbformat_minor": 5
}
